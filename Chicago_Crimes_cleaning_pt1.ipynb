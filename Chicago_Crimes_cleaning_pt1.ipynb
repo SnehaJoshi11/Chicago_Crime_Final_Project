{
 "cells": [
  {
   "cell_type": "markdown",
   "id": "ce0389b4",
   "metadata": {},
   "source": [
    "### Read in our raw data from the [Chicago Data Portal](https://data.cityofchicago.org/Public-Safety/Crimes-2001-to-Present/ijzp-q8t2/data)\n",
    "(This will take a while)"
   ]
  },
  {
   "cell_type": "code",
   "execution_count": 1,
   "id": "492b9330",
   "metadata": {},
   "outputs": [
    {
     "name": "stdout",
     "output_type": "stream",
     "text": [
      "Wall time: 9min 26s\n"
     ]
    }
   ],
   "source": [
    "%%time\n",
    "import requests\n",
    "import time\n",
    "import pandas as pd\n",
    "import numpy as np\n",
    "\n",
    "url = \"https://data.cityofchicago.org/api/views/ijzp-q8t2/rows.csv?accessType=DOWNLOAD\"\n",
    "\n",
    "cleaned_df_pt1 = pd.read_csv(url)"
   ]
  },
  {
   "cell_type": "code",
   "execution_count": 2,
   "id": "5ec65dd0",
   "metadata": {},
   "outputs": [
    {
     "name": "stdout",
     "output_type": "stream",
     "text": [
      "7,526,160\n"
     ]
    }
   ],
   "source": [
    "# Get number of observations/rows\n",
    "length_cleaned_df_pt1 = len(cleaned_df_pt1)\n",
    "numbers_cleaned_df_pt1 = \"{:,}\".format(length_cleaned_df_pt1)\n",
    "print(numbers_cleaned_df_pt1)"
   ]
  },
  {
   "cell_type": "markdown",
   "id": "aef7d451",
   "metadata": {},
   "source": [
    "### 7,520,239 observations is A LOT!\n",
    "... too many for our future models to run and our visuals. \n",
    "\n",
    "So let's reduce that by inspecting our data to see if we can:\n",
    " - keep only relevent date range (2018-present) to make sure we capture some pre-COVID data because it made such a huge impact on lives.\n",
    " - drop any duplicate columns\n",
    " - drop any rows will null values\n",
    " - then if still too large, get a random sample to get a more workable sized dataset"
   ]
  },
  {
   "cell_type": "code",
   "execution_count": 3,
   "id": "40e8146f",
   "metadata": {},
   "outputs": [
    {
     "data": {
      "text/html": [
       "<div>\n",
       "<style scoped>\n",
       "    .dataframe tbody tr th:only-of-type {\n",
       "        vertical-align: middle;\n",
       "    }\n",
       "\n",
       "    .dataframe tbody tr th {\n",
       "        vertical-align: top;\n",
       "    }\n",
       "\n",
       "    .dataframe thead th {\n",
       "        text-align: right;\n",
       "    }\n",
       "</style>\n",
       "<table border=\"1\" class=\"dataframe\">\n",
       "  <thead>\n",
       "    <tr style=\"text-align: right;\">\n",
       "      <th></th>\n",
       "      <th>ID</th>\n",
       "      <th>Case Number</th>\n",
       "      <th>Date</th>\n",
       "      <th>Block</th>\n",
       "      <th>IUCR</th>\n",
       "      <th>Primary Type</th>\n",
       "      <th>Description</th>\n",
       "      <th>Location Description</th>\n",
       "      <th>Arrest</th>\n",
       "      <th>Domestic</th>\n",
       "      <th>...</th>\n",
       "      <th>Ward</th>\n",
       "      <th>Community Area</th>\n",
       "      <th>FBI Code</th>\n",
       "      <th>X Coordinate</th>\n",
       "      <th>Y Coordinate</th>\n",
       "      <th>Year</th>\n",
       "      <th>Updated On</th>\n",
       "      <th>Latitude</th>\n",
       "      <th>Longitude</th>\n",
       "      <th>Location</th>\n",
       "    </tr>\n",
       "  </thead>\n",
       "  <tbody>\n",
       "    <tr>\n",
       "      <th>0</th>\n",
       "      <td>10224738</td>\n",
       "      <td>HY411648</td>\n",
       "      <td>09/05/2015 01:30:00 PM</td>\n",
       "      <td>043XX S WOOD ST</td>\n",
       "      <td>0486</td>\n",
       "      <td>BATTERY</td>\n",
       "      <td>DOMESTIC BATTERY SIMPLE</td>\n",
       "      <td>RESIDENCE</td>\n",
       "      <td>False</td>\n",
       "      <td>True</td>\n",
       "      <td>...</td>\n",
       "      <td>12.0</td>\n",
       "      <td>61.0</td>\n",
       "      <td>08B</td>\n",
       "      <td>1165074.0</td>\n",
       "      <td>1875917.0</td>\n",
       "      <td>2015</td>\n",
       "      <td>02/10/2018 03:50:01 PM</td>\n",
       "      <td>41.815117</td>\n",
       "      <td>-87.670000</td>\n",
       "      <td>(41.815117282, -87.669999562)</td>\n",
       "    </tr>\n",
       "    <tr>\n",
       "      <th>1</th>\n",
       "      <td>10224739</td>\n",
       "      <td>HY411615</td>\n",
       "      <td>09/04/2015 11:30:00 AM</td>\n",
       "      <td>008XX N CENTRAL AVE</td>\n",
       "      <td>0870</td>\n",
       "      <td>THEFT</td>\n",
       "      <td>POCKET-PICKING</td>\n",
       "      <td>CTA BUS</td>\n",
       "      <td>False</td>\n",
       "      <td>False</td>\n",
       "      <td>...</td>\n",
       "      <td>29.0</td>\n",
       "      <td>25.0</td>\n",
       "      <td>06</td>\n",
       "      <td>1138875.0</td>\n",
       "      <td>1904869.0</td>\n",
       "      <td>2015</td>\n",
       "      <td>02/10/2018 03:50:01 PM</td>\n",
       "      <td>41.895080</td>\n",
       "      <td>-87.765400</td>\n",
       "      <td>(41.895080471, -87.765400451)</td>\n",
       "    </tr>\n",
       "    <tr>\n",
       "      <th>2</th>\n",
       "      <td>11646166</td>\n",
       "      <td>JC213529</td>\n",
       "      <td>09/01/2018 12:01:00 AM</td>\n",
       "      <td>082XX S INGLESIDE AVE</td>\n",
       "      <td>0810</td>\n",
       "      <td>THEFT</td>\n",
       "      <td>OVER $500</td>\n",
       "      <td>RESIDENCE</td>\n",
       "      <td>False</td>\n",
       "      <td>True</td>\n",
       "      <td>...</td>\n",
       "      <td>8.0</td>\n",
       "      <td>44.0</td>\n",
       "      <td>06</td>\n",
       "      <td>NaN</td>\n",
       "      <td>NaN</td>\n",
       "      <td>2018</td>\n",
       "      <td>04/06/2019 04:04:43 PM</td>\n",
       "      <td>NaN</td>\n",
       "      <td>NaN</td>\n",
       "      <td>NaN</td>\n",
       "    </tr>\n",
       "    <tr>\n",
       "      <th>3</th>\n",
       "      <td>10224740</td>\n",
       "      <td>HY411595</td>\n",
       "      <td>09/05/2015 12:45:00 PM</td>\n",
       "      <td>035XX W BARRY AVE</td>\n",
       "      <td>2023</td>\n",
       "      <td>NARCOTICS</td>\n",
       "      <td>POSS: HEROIN(BRN/TAN)</td>\n",
       "      <td>SIDEWALK</td>\n",
       "      <td>True</td>\n",
       "      <td>False</td>\n",
       "      <td>...</td>\n",
       "      <td>35.0</td>\n",
       "      <td>21.0</td>\n",
       "      <td>18</td>\n",
       "      <td>1152037.0</td>\n",
       "      <td>1920384.0</td>\n",
       "      <td>2015</td>\n",
       "      <td>02/10/2018 03:50:01 PM</td>\n",
       "      <td>41.937406</td>\n",
       "      <td>-87.716650</td>\n",
       "      <td>(41.937405765, -87.716649687)</td>\n",
       "    </tr>\n",
       "    <tr>\n",
       "      <th>4</th>\n",
       "      <td>10224741</td>\n",
       "      <td>HY411610</td>\n",
       "      <td>09/05/2015 01:00:00 PM</td>\n",
       "      <td>0000X N LARAMIE AVE</td>\n",
       "      <td>0560</td>\n",
       "      <td>ASSAULT</td>\n",
       "      <td>SIMPLE</td>\n",
       "      <td>APARTMENT</td>\n",
       "      <td>False</td>\n",
       "      <td>True</td>\n",
       "      <td>...</td>\n",
       "      <td>28.0</td>\n",
       "      <td>25.0</td>\n",
       "      <td>08A</td>\n",
       "      <td>1141706.0</td>\n",
       "      <td>1900086.0</td>\n",
       "      <td>2015</td>\n",
       "      <td>02/10/2018 03:50:01 PM</td>\n",
       "      <td>41.881903</td>\n",
       "      <td>-87.755121</td>\n",
       "      <td>(41.881903443, -87.755121152)</td>\n",
       "    </tr>\n",
       "  </tbody>\n",
       "</table>\n",
       "<p>5 rows × 22 columns</p>\n",
       "</div>"
      ],
      "text/plain": [
       "         ID Case Number                    Date                  Block  IUCR  \\\n",
       "0  10224738    HY411648  09/05/2015 01:30:00 PM        043XX S WOOD ST  0486   \n",
       "1  10224739    HY411615  09/04/2015 11:30:00 AM    008XX N CENTRAL AVE  0870   \n",
       "2  11646166    JC213529  09/01/2018 12:01:00 AM  082XX S INGLESIDE AVE  0810   \n",
       "3  10224740    HY411595  09/05/2015 12:45:00 PM      035XX W BARRY AVE  2023   \n",
       "4  10224741    HY411610  09/05/2015 01:00:00 PM    0000X N LARAMIE AVE  0560   \n",
       "\n",
       "  Primary Type              Description Location Description  Arrest  \\\n",
       "0      BATTERY  DOMESTIC BATTERY SIMPLE            RESIDENCE   False   \n",
       "1        THEFT           POCKET-PICKING              CTA BUS   False   \n",
       "2        THEFT                OVER $500            RESIDENCE   False   \n",
       "3    NARCOTICS    POSS: HEROIN(BRN/TAN)             SIDEWALK    True   \n",
       "4      ASSAULT                   SIMPLE            APARTMENT   False   \n",
       "\n",
       "   Domestic  ...  Ward  Community Area  FBI Code  X Coordinate Y Coordinate  \\\n",
       "0      True  ...  12.0            61.0       08B     1165074.0    1875917.0   \n",
       "1     False  ...  29.0            25.0        06     1138875.0    1904869.0   \n",
       "2      True  ...   8.0            44.0        06           NaN          NaN   \n",
       "3     False  ...  35.0            21.0        18     1152037.0    1920384.0   \n",
       "4      True  ...  28.0            25.0       08A     1141706.0    1900086.0   \n",
       "\n",
       "   Year              Updated On   Latitude  Longitude  \\\n",
       "0  2015  02/10/2018 03:50:01 PM  41.815117 -87.670000   \n",
       "1  2015  02/10/2018 03:50:01 PM  41.895080 -87.765400   \n",
       "2  2018  04/06/2019 04:04:43 PM        NaN        NaN   \n",
       "3  2015  02/10/2018 03:50:01 PM  41.937406 -87.716650   \n",
       "4  2015  02/10/2018 03:50:01 PM  41.881903 -87.755121   \n",
       "\n",
       "                        Location  \n",
       "0  (41.815117282, -87.669999562)  \n",
       "1  (41.895080471, -87.765400451)  \n",
       "2                            NaN  \n",
       "3  (41.937405765, -87.716649687)  \n",
       "4  (41.881903443, -87.755121152)  \n",
       "\n",
       "[5 rows x 22 columns]"
      ]
     },
     "execution_count": 3,
     "metadata": {},
     "output_type": "execute_result"
    }
   ],
   "source": [
    "# View the data\n",
    "cleaned_df_pt1.head()"
   ]
  },
  {
   "cell_type": "code",
   "execution_count": 4,
   "id": "ad0055e4",
   "metadata": {},
   "outputs": [
    {
     "data": {
      "text/plain": [
       "ID                        int64\n",
       "Case Number              object\n",
       "Date                     object\n",
       "Block                    object\n",
       "IUCR                     object\n",
       "Primary Type             object\n",
       "Description              object\n",
       "Location Description     object\n",
       "Arrest                     bool\n",
       "Domestic                   bool\n",
       "Beat                      int64\n",
       "District                float64\n",
       "Ward                    float64\n",
       "Community Area          float64\n",
       "FBI Code                 object\n",
       "X Coordinate            float64\n",
       "Y Coordinate            float64\n",
       "Year                      int64\n",
       "Updated On               object\n",
       "Latitude                float64\n",
       "Longitude               float64\n",
       "Location                 object\n",
       "dtype: object"
      ]
     },
     "execution_count": 4,
     "metadata": {},
     "output_type": "execute_result"
    }
   ],
   "source": [
    "# View colums & their datatypes\n",
    "cleaned_df_pt1.dtypes"
   ]
  },
  {
   "cell_type": "code",
   "execution_count": 5,
   "id": "d16c256d",
   "metadata": {},
   "outputs": [
    {
     "data": {
      "text/plain": [
       "array([2020, 2019, 2021, 2022], dtype=int64)"
      ]
     },
     "execution_count": 5,
     "metadata": {},
     "output_type": "execute_result"
    }
   ],
   "source": [
    "# Keep only relevent data: 2018 and later\n",
    "cleaned_df_pt1 = cleaned_df_pt1[cleaned_df_pt1.Year>2018]\n",
    "cleaned_df_pt1.Year.unique()"
   ]
  },
  {
   "cell_type": "code",
   "execution_count": 6,
   "id": "cb4dcb35",
   "metadata": {},
   "outputs": [
    {
     "name": "stdout",
     "output_type": "stream",
     "text": [
      "735,615\n"
     ]
    }
   ],
   "source": [
    "# Get number of observations/rows\n",
    "length_cleaned_df_pt1 = len(cleaned_df_pt1)\n",
    "numbers_cleaned_df_pt1 = \"{:,}\".format(length_cleaned_df_pt1)\n",
    "print(numbers_cleaned_df_pt1)"
   ]
  },
  {
   "cell_type": "markdown",
   "id": "d561fdd9",
   "metadata": {},
   "source": [
    "\n",
    "### What exactly do some of these columns mean?  \n",
    "Take a look at the source's descriptions to determine if we can drop any unimportant or redundant columns: https://data.cityofchicago.org/Public-Safety/Crimes-2001-to-Present/ijzp-q8t2\n",
    "\n",
    "| Column_Name | Data_Type | Description\n",
    "| :--- | :--- | :--- |     \n",
    "| ID | Number | Unique identifier for the record\n",
    "| Case Number | Plain Text | The Chicago Police Department RD Number (Records Division Number), which is unique to the incident\n",
    "| Date | Floating Timestamp | Date when the incident occurred. this is sometimes a best estimate\n",
    "| Block | Plain Text | The partially redacted **address where the incident occurred**, placing it on the same block as the actual address\n",
    "| IUCR | Plain Text | The Illinois Unifrom Crime Reporting code. This is directly linked to the Primary Type and Description. See the [list of IUCR codes](https://data.cityofchicago.org/d/c7ck-438e)\n",
    "| Primary Type | Plain Text | The primary description of the IUCR code\n",
    "| Description | Plain Text | The secondary description of the IUCR code, a subcategory of the primary description\n",
    "| Location Description | Plain Text | Description of the location where the incident occurred\n",
    "| Arrest | Checkbox | Indicates whether an arrest was made\n",
    "| Domestic | Checkbox | Indicates whether the incident was domestic-related as defined by the Illinois Domestic Violence Act\n",
    "| Beat | Plain Text | Indicates the beat where the incident occurred. A beat is the **smallest police geographic area** – each beat has a dedicated police beat car. Three to five beats make up a police sector, and three sectors make up a police district. The Chicago Police Department has 22 police districts. See the [beats](https://data.cityofchicago.org/d/aerh-rz74)\n",
    "| District | Plain Text | Indicates the **police district** where the incident occurred. See the [districts](https://data.cityofchicago.org/d/fthy-xz3r)\n",
    "| Ward | Number | The ward (**City Council district**) where the incident occurred. See the [wards](https://data.cityofchicago.org/d/sp34-6z76)\n",
    "| Community Area | Plain Text | Indicates the community area where the incident occurred. Chicago has 77 community areas. See the [community areas](https://data.cityofchicago.org/d/cauq-8yn6)\n",
    "| FBI Code | Plain Text | Indicates the crime classification as outlined in the FBI's National Incident-Based Reporting System (NIBRS). See the Chicago Police Department listing of these [FBI code classifications](http://gis.chicagopolice.org/clearmap_crime_sums/crime_types.html)\n",
    "| X Coordinate | Number | The x coordinate of the location where the incident occurred in State Plane Illinois East NAD 1983 projection. This location is shifted from the actual location for partial redaction but falls on the same block\n",
    "| Y Coordinate | Number | The y coordinate of the location where the incident occurred in State Plane Illinois East NAD 1983 projection. This location is shifted from the actual location for partial redaction but falls on the same block\n",
    "| Year | Number | Year the incident occurred\n",
    "| Updated On | Floating Timestamp | Date and time the record was last updated\n",
    "| Latitude | Number | The latitude of the location where the incident occurred. This location is shifted from the actual location for partial redaction but falls on the same block\n",
    "| Longitudee | Number | The longitude of the location where the incident occurred. This location is shifted from the actual location for partial redaction but falls on the same block\n",
    "| Location | Location | The location where the incident occurred in a format that allows for creation of maps and other geographic operations on this data portal. This location is shifted from the actual location for partial redaction but falls on the same block"
   ]
  },
  {
   "cell_type": "markdown",
   "id": "5490076f",
   "metadata": {},
   "source": [
    "### Drop Unimportant & Duplicate Columns: \n",
    "- Case Number (unnecessary for analysis)\n",
    "- Block (we looked at the map and between district, community, ward, and block... block too small and also redundant)\n",
    "- IUCR (reporting code unnecessary when we have the description of the crime already)\n",
    "- Beat (same as block ...beat is also too small and also redundant)\n",
    "- Ward (same as block ...too politically divided)\n",
    "- FBI Code (same as IUCR)\n",
    "- X Coordinate (shift of the actual location; redundant\n",
    "- Y Coordinate (same as X Coordinate)\n",
    "- Year (already have a Date-Time column, which can be easily grouped by year if necessary, so redundant)\n",
    "- Updated on (unnecessary because we don't need to know when it was last updated for our analysis)\n"
   ]
  },
  {
   "cell_type": "code",
   "execution_count": 7,
   "id": "c0e63565",
   "metadata": {
    "scrolled": false
   },
   "outputs": [
    {
     "data": {
      "text/html": [
       "<div>\n",
       "<style scoped>\n",
       "    .dataframe tbody tr th:only-of-type {\n",
       "        vertical-align: middle;\n",
       "    }\n",
       "\n",
       "    .dataframe tbody tr th {\n",
       "        vertical-align: top;\n",
       "    }\n",
       "\n",
       "    .dataframe thead th {\n",
       "        text-align: right;\n",
       "    }\n",
       "</style>\n",
       "<table border=\"1\" class=\"dataframe\">\n",
       "  <thead>\n",
       "    <tr style=\"text-align: right;\">\n",
       "      <th></th>\n",
       "      <th>ID</th>\n",
       "      <th>Date</th>\n",
       "      <th>Primary Type</th>\n",
       "      <th>Description</th>\n",
       "      <th>Location Description</th>\n",
       "      <th>Arrest</th>\n",
       "      <th>Domestic</th>\n",
       "      <th>District</th>\n",
       "      <th>Community Area</th>\n",
       "      <th>Latitude</th>\n",
       "      <th>Longitude</th>\n",
       "      <th>Location</th>\n",
       "    </tr>\n",
       "  </thead>\n",
       "  <tbody>\n",
       "    <tr>\n",
       "      <th>90</th>\n",
       "      <td>12014684</td>\n",
       "      <td>03/17/2020 09:30:00 PM</td>\n",
       "      <td>THEFT</td>\n",
       "      <td>$500 AND UNDER</td>\n",
       "      <td>STREET</td>\n",
       "      <td>False</td>\n",
       "      <td>False</td>\n",
       "      <td>16.0</td>\n",
       "      <td>15.0</td>\n",
       "      <td>41.952052</td>\n",
       "      <td>-87.754660</td>\n",
       "      <td>(41.952051946, -87.754660372)</td>\n",
       "    </tr>\n",
       "    <tr>\n",
       "      <th>183</th>\n",
       "      <td>11864018</td>\n",
       "      <td>09/24/2019 08:00:00 AM</td>\n",
       "      <td>DECEPTIVE PRACTICE</td>\n",
       "      <td>FINANCIAL IDENTITY THEFT $300 AND UNDER</td>\n",
       "      <td>COMMERCIAL / BUSINESS OFFICE</td>\n",
       "      <td>False</td>\n",
       "      <td>False</td>\n",
       "      <td>1.0</td>\n",
       "      <td>33.0</td>\n",
       "      <td>41.852248</td>\n",
       "      <td>-87.623786</td>\n",
       "      <td>(41.852248185, -87.623786256)</td>\n",
       "    </tr>\n",
       "    <tr>\n",
       "      <th>235</th>\n",
       "      <td>11859805</td>\n",
       "      <td>10/13/2019 08:30:00 PM</td>\n",
       "      <td>THEFT</td>\n",
       "      <td>RETAIL THEFT</td>\n",
       "      <td>GROCERY FOOD STORE</td>\n",
       "      <td>False</td>\n",
       "      <td>False</td>\n",
       "      <td>12.0</td>\n",
       "      <td>24.0</td>\n",
       "      <td>41.895732</td>\n",
       "      <td>-87.687784</td>\n",
       "      <td>(41.895732399, -87.687784384)</td>\n",
       "    </tr>\n",
       "    <tr>\n",
       "      <th>420</th>\n",
       "      <td>12012127</td>\n",
       "      <td>03/18/2020 02:03:00 AM</td>\n",
       "      <td>MOTOR VEHICLE THEFT</td>\n",
       "      <td>AUTOMOBILE</td>\n",
       "      <td>APARTMENT</td>\n",
       "      <td>False</td>\n",
       "      <td>True</td>\n",
       "      <td>11.0</td>\n",
       "      <td>26.0</td>\n",
       "      <td>41.877110</td>\n",
       "      <td>-87.723990</td>\n",
       "      <td>(41.877110187, -87.723989719)</td>\n",
       "    </tr>\n",
       "    <tr>\n",
       "      <th>446</th>\n",
       "      <td>11863808</td>\n",
       "      <td>10/05/2019 06:30:00 PM</td>\n",
       "      <td>THEFT</td>\n",
       "      <td>OVER $500</td>\n",
       "      <td>RESIDENCE</td>\n",
       "      <td>False</td>\n",
       "      <td>False</td>\n",
       "      <td>12.0</td>\n",
       "      <td>28.0</td>\n",
       "      <td>41.882002</td>\n",
       "      <td>-87.662287</td>\n",
       "      <td>(41.88200224, -87.662286977)</td>\n",
       "    </tr>\n",
       "  </tbody>\n",
       "</table>\n",
       "</div>"
      ],
      "text/plain": [
       "           ID                    Date         Primary Type  \\\n",
       "90   12014684  03/17/2020 09:30:00 PM                THEFT   \n",
       "183  11864018  09/24/2019 08:00:00 AM   DECEPTIVE PRACTICE   \n",
       "235  11859805  10/13/2019 08:30:00 PM                THEFT   \n",
       "420  12012127  03/18/2020 02:03:00 AM  MOTOR VEHICLE THEFT   \n",
       "446  11863808  10/05/2019 06:30:00 PM                THEFT   \n",
       "\n",
       "                                 Description          Location Description  \\\n",
       "90                            $500 AND UNDER                        STREET   \n",
       "183  FINANCIAL IDENTITY THEFT $300 AND UNDER  COMMERCIAL / BUSINESS OFFICE   \n",
       "235                             RETAIL THEFT            GROCERY FOOD STORE   \n",
       "420                               AUTOMOBILE                     APARTMENT   \n",
       "446                                OVER $500                     RESIDENCE   \n",
       "\n",
       "     Arrest  Domestic  District  Community Area   Latitude  Longitude  \\\n",
       "90    False     False      16.0            15.0  41.952052 -87.754660   \n",
       "183   False     False       1.0            33.0  41.852248 -87.623786   \n",
       "235   False     False      12.0            24.0  41.895732 -87.687784   \n",
       "420   False      True      11.0            26.0  41.877110 -87.723990   \n",
       "446   False     False      12.0            28.0  41.882002 -87.662287   \n",
       "\n",
       "                          Location  \n",
       "90   (41.952051946, -87.754660372)  \n",
       "183  (41.852248185, -87.623786256)  \n",
       "235  (41.895732399, -87.687784384)  \n",
       "420  (41.877110187, -87.723989719)  \n",
       "446   (41.88200224, -87.662286977)  "
      ]
     },
     "execution_count": 7,
     "metadata": {},
     "output_type": "execute_result"
    }
   ],
   "source": [
    "# Make list of columns to drop\n",
    "columns_to_drop = ['Case Number',\n",
    "           'Block',\n",
    "           'IUCR',\n",
    "           'Beat',\n",
    "           'Ward',\n",
    "           'FBI Code',\n",
    "           'X Coordinate',\n",
    "           'Y Coordinate',\n",
    "           'Year',\n",
    "           'Updated On']\n",
    "\n",
    "# Pass in list to df.drop function\n",
    "cleaned_df_pt1 = cleaned_df_pt1.drop(columns_to_drop, axis='columns')\n",
    "\n",
    "cleaned_df_pt1.head()"
   ]
  },
  {
   "cell_type": "markdown",
   "id": "97a272d7",
   "metadata": {},
   "source": [
    "### Drop Rows with Null values\n",
    "...because they don't play nice when analyzing."
   ]
  },
  {
   "cell_type": "code",
   "execution_count": 8,
   "id": "20b5bf6b",
   "metadata": {},
   "outputs": [
    {
     "name": "stdout",
     "output_type": "stream",
     "text": [
      "Column ID has 0null values\n",
      "Column Date has 0null values\n",
      "Column Primary Type has 0null values\n",
      "Column Description has 0null values\n",
      "Column Location Description has 3387null values\n",
      "Column Arrest has 0null values\n",
      "Column Domestic has 0null values\n",
      "Column District has 0null values\n",
      "Column Community Area has 1null values\n",
      "Column Latitude has 9749null values\n",
      "Column Longitude has 9749null values\n",
      "Column Location has 9749null values\n"
     ]
    }
   ],
   "source": [
    "# Are there any null values in our dataset?\n",
    "\n",
    "for column in cleaned_df_pt1.columns:\n",
    "    print(f\"Column {column} has {cleaned_df_pt1[column].isnull().sum()}null values\")"
   ]
  },
  {
   "cell_type": "code",
   "execution_count": 9,
   "id": "570e4de6",
   "metadata": {},
   "outputs": [
    {
     "name": "stdout",
     "output_type": "stream",
     "text": [
      "723,136\n"
     ]
    }
   ],
   "source": [
    "# Drop all null rows\n",
    "cleaned_df_pt1 = cleaned_df_pt1.dropna()\n",
    "\n",
    "# Count the number of observations/rows remaining\n",
    "length_cleaned_df_pt1 = len(cleaned_df_pt1)\n",
    "numbers_cleaned_df_pt1 = \"{:,}\".format(length_cleaned_df_pt1)\n",
    "print(numbers_cleaned_df_pt1)"
   ]
  },
  {
   "cell_type": "markdown",
   "id": "40ca97f5",
   "metadata": {},
   "source": [
    "### 723,136 Observations is STILL A LOT!\n",
    "Lets get a sample size of that so it's easier to work with, yet still holds enough data to work with."
   ]
  },
  {
   "cell_type": "code",
   "execution_count": 10,
   "id": "c60950b4",
   "metadata": {},
   "outputs": [],
   "source": [
    "# Shrink our dataset for time and money sake when running models, Create a sample dataset\n",
    "cleaned_df_pt1 = cleaned_df_pt1.sample(n=50000)"
   ]
  },
  {
   "cell_type": "code",
   "execution_count": 11,
   "id": "ea76b10e",
   "metadata": {},
   "outputs": [
    {
     "name": "stdout",
     "output_type": "stream",
     "text": [
      "50,000\n"
     ]
    }
   ],
   "source": [
    "# Count the number of observations/rows remaining\n",
    "length_cleaned_df_pt1 = len(cleaned_df_pt1)\n",
    "numbers = \"{:,}\".format(length_cleaned_df_pt1)\n",
    "print(numbers)"
   ]
  },
  {
   "cell_type": "markdown",
   "id": "1e7330e5",
   "metadata": {},
   "source": [
    "### Save the sample cleaned data to a csv called \"Chicago_Crimes_cleaned_pt1\"\n",
    "...so it can be referenced to do the rest of the cleaning and if adjustments are ever made to the cleaning we don't have to wait for the 7 million rows to load into our jupyter notebook with each tweak. "
   ]
  },
  {
   "cell_type": "code",
   "execution_count": 12,
   "id": "821fc4c2",
   "metadata": {},
   "outputs": [],
   "source": [
    "# Save smaller cleaned data to a csv\n",
    "cleaned_df_pt1.to_csv(\"Resources/Chicago_Crimes_cleaned_pt1.csv\", index=False)"
   ]
  },
  {
   "cell_type": "code",
   "execution_count": null,
   "id": "c4151c73",
   "metadata": {},
   "outputs": [],
   "source": []
  }
 ],
 "metadata": {
  "kernelspec": {
   "display_name": "mlenv",
   "language": "python",
   "name": "mlenv"
  },
  "language_info": {
   "codemirror_mode": {
    "name": "ipython",
    "version": 3
   },
   "file_extension": ".py",
   "mimetype": "text/x-python",
   "name": "python",
   "nbconvert_exporter": "python",
   "pygments_lexer": "ipython3",
   "version": "3.7.11"
  }
 },
 "nbformat": 4,
 "nbformat_minor": 5
}
